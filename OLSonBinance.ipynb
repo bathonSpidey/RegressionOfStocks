{
 "cells": [
  {
   "cell_type": "code",
   "execution_count": 1,
   "metadata": {},
   "outputs": [],
   "source": [
    "import pandas as pd\n",
    "import numpy as np\n",
    "import matplotlib.pyplot as plt\n",
    "import seaborn as sns"
   ]
  },
  {
   "cell_type": "code",
   "execution_count": 2,
   "metadata": {},
   "outputs": [
    {
     "data": {
      "text/html": [
       "<div>\n",
       "<style scoped>\n",
       "    .dataframe tbody tr th:only-of-type {\n",
       "        vertical-align: middle;\n",
       "    }\n",
       "\n",
       "    .dataframe tbody tr th {\n",
       "        vertical-align: top;\n",
       "    }\n",
       "\n",
       "    .dataframe thead th {\n",
       "        text-align: right;\n",
       "    }\n",
       "</style>\n",
       "<table border=\"1\" class=\"dataframe\">\n",
       "  <thead>\n",
       "    <tr style=\"text-align: right;\">\n",
       "      <th></th>\n",
       "      <th>DateTime</th>\n",
       "      <th>X0</th>\n",
       "      <th>X1</th>\n",
       "      <th>X2</th>\n",
       "      <th>VT</th>\n",
       "    </tr>\n",
       "  </thead>\n",
       "  <tbody>\n",
       "    <tr>\n",
       "      <th>0</th>\n",
       "      <td>2020-04-01 00:00:00</td>\n",
       "      <td>1.3768</td>\n",
       "      <td>0.00</td>\n",
       "      <td>0.000</td>\n",
       "      <td>0.0961</td>\n",
       "    </tr>\n",
       "    <tr>\n",
       "      <th>1</th>\n",
       "      <td>2020-04-01 00:00:01</td>\n",
       "      <td>1.3243</td>\n",
       "      <td>0.43</td>\n",
       "      <td>0.430</td>\n",
       "      <td>0.0132</td>\n",
       "    </tr>\n",
       "    <tr>\n",
       "      <th>2</th>\n",
       "      <td>2020-04-01 00:00:02</td>\n",
       "      <td>1.3243</td>\n",
       "      <td>0.43</td>\n",
       "      <td>0.430</td>\n",
       "      <td>0.0132</td>\n",
       "    </tr>\n",
       "    <tr>\n",
       "      <th>3</th>\n",
       "      <td>2020-04-01 00:00:03</td>\n",
       "      <td>1.3243</td>\n",
       "      <td>0.00</td>\n",
       "      <td>0.430</td>\n",
       "      <td>5.2441</td>\n",
       "    </tr>\n",
       "    <tr>\n",
       "      <th>4</th>\n",
       "      <td>2020-04-01 00:00:04</td>\n",
       "      <td>1.3243</td>\n",
       "      <td>0.00</td>\n",
       "      <td>0.645</td>\n",
       "      <td>5.2441</td>\n",
       "    </tr>\n",
       "    <tr>\n",
       "      <th>...</th>\n",
       "      <td>...</td>\n",
       "      <td>...</td>\n",
       "      <td>...</td>\n",
       "      <td>...</td>\n",
       "      <td>...</td>\n",
       "    </tr>\n",
       "    <tr>\n",
       "      <th>172795</th>\n",
       "      <td>2020-04-02 23:59:55</td>\n",
       "      <td>1.4218</td>\n",
       "      <td>3.28</td>\n",
       "      <td>23.710</td>\n",
       "      <td>0.0000</td>\n",
       "    </tr>\n",
       "    <tr>\n",
       "      <th>172796</th>\n",
       "      <td>2020-04-02 23:59:56</td>\n",
       "      <td>1.4218</td>\n",
       "      <td>1.02</td>\n",
       "      <td>13.250</td>\n",
       "      <td>0.0000</td>\n",
       "    </tr>\n",
       "    <tr>\n",
       "      <th>172797</th>\n",
       "      <td>2020-04-02 23:59:57</td>\n",
       "      <td>1.2646</td>\n",
       "      <td>1.24</td>\n",
       "      <td>5.240</td>\n",
       "      <td>0.0000</td>\n",
       "    </tr>\n",
       "    <tr>\n",
       "      <th>172798</th>\n",
       "      <td>2020-04-02 23:59:58</td>\n",
       "      <td>1.2098</td>\n",
       "      <td>0.36</td>\n",
       "      <td>0.720</td>\n",
       "      <td>0.0000</td>\n",
       "    </tr>\n",
       "    <tr>\n",
       "      <th>172799</th>\n",
       "      <td>2020-04-02 23:59:59</td>\n",
       "      <td>1.5389</td>\n",
       "      <td>1.96</td>\n",
       "      <td>1.960</td>\n",
       "      <td>0.0000</td>\n",
       "    </tr>\n",
       "  </tbody>\n",
       "</table>\n",
       "<p>172800 rows × 5 columns</p>\n",
       "</div>"
      ],
      "text/plain": [
       "                   DateTime      X0    X1      X2      VT\n",
       "0       2020-04-01 00:00:00  1.3768  0.00   0.000  0.0961\n",
       "1       2020-04-01 00:00:01  1.3243  0.43   0.430  0.0132\n",
       "2       2020-04-01 00:00:02  1.3243  0.43   0.430  0.0132\n",
       "3       2020-04-01 00:00:03  1.3243  0.00   0.430  5.2441\n",
       "4       2020-04-01 00:00:04  1.3243  0.00   0.645  5.2441\n",
       "...                     ...     ...   ...     ...     ...\n",
       "172795  2020-04-02 23:59:55  1.4218  3.28  23.710  0.0000\n",
       "172796  2020-04-02 23:59:56  1.4218  1.02  13.250  0.0000\n",
       "172797  2020-04-02 23:59:57  1.2646  1.24   5.240  0.0000\n",
       "172798  2020-04-02 23:59:58  1.2098  0.36   0.720  0.0000\n",
       "172799  2020-04-02 23:59:59  1.5389  1.96   1.960  0.0000\n",
       "\n",
       "[172800 rows x 5 columns]"
      ]
     },
     "execution_count": 2,
     "metadata": {},
     "output_type": "execute_result"
    }
   ],
   "source": [
    "data=pd.read_csv(\"BinanceTrainingData.csv\")\n",
    "data"
   ]
  },
  {
   "cell_type": "code",
   "execution_count": 3,
   "metadata": {},
   "outputs": [
    {
     "data": {
      "text/plain": [
       "0         0.0961\n",
       "1         0.0132\n",
       "2         0.0132\n",
       "3         5.2441\n",
       "4         5.2441\n",
       "           ...  \n",
       "172795    0.0000\n",
       "172796    0.0000\n",
       "172797    0.0000\n",
       "172798    0.0000\n",
       "172799    0.0000\n",
       "Name: VT, Length: 172800, dtype: float64"
      ]
     },
     "execution_count": 3,
     "metadata": {},
     "output_type": "execute_result"
    }
   ],
   "source": [
    "y=data[\"VT\"]\n",
    "y"
   ]
  },
  {
   "cell_type": "code",
   "execution_count": 23,
   "metadata": {},
   "outputs": [
    {
     "data": {
      "text/plain": [
       "0         1.3768\n",
       "1         1.3243\n",
       "2         1.3243\n",
       "3         1.3243\n",
       "4         1.3243\n",
       "           ...  \n",
       "172795    1.4218\n",
       "172796    1.4218\n",
       "172797    1.2646\n",
       "172798    1.2098\n",
       "172799    1.5389\n",
       "Name: X0, Length: 172800, dtype: float64"
      ]
     },
     "execution_count": 23,
     "metadata": {},
     "output_type": "execute_result"
    }
   ],
   "source": [
    "x0=data[\"X0\"]\n",
    "x0"
   ]
  },
  {
   "cell_type": "code",
   "execution_count": 24,
   "metadata": {},
   "outputs": [],
   "source": [
    "import statsmodels.api as sm"
   ]
  },
  {
   "cell_type": "code",
   "execution_count": 25,
   "metadata": {},
   "outputs": [
    {
     "data": {
      "image/png": "[encoded data removed]",
      "text/plain": [
       "<Figure size 432x288 with 1 Axes>"
      ]
     },
     "metadata": {
      "needs_background": "light"
     },
     "output_type": "display_data"
    }
   ],
   "source": [
    "# Plot a scatter plot (first we put the horizontal axis, then the vertical axis)\n",
    "plt.scatter(x0,y)\n",
    "# Name the axes\n",
    "plt.xlabel('X0', fontsize = 20)\n",
    "plt.ylabel('Vt', fontsize = 20)\n",
    "# Show the plot\n",
    "plt.show()"
   ]
  },
  {
   "cell_type": "code",
   "execution_count": 26,
   "metadata": {},
   "outputs": [],
   "source": [
    "results0 = sm.OLS(y,x0).fit()"
   ]
  },
  {
   "cell_type": "code",
   "execution_count": 27,
   "metadata": {},
   "outputs": [
    {
     "data": {
      "text/html": [
       "<table class=\"simpletable\">\n",
       "<caption>OLS Regression Results</caption>\n",
       "<tr>\n",
       "  <th>Dep. Variable:</th>           <td>VT</td>        <th>  R-squared (uncentered):</th>       <td>   0.066</td>  \n",
       "</tr>\n",
       "<tr>\n",
       "  <th>Model:</th>                   <td>OLS</td>       <th>  Adj. R-squared (uncentered):</th>  <td>   0.066</td>  \n",
       "</tr>\n",
       "<tr>\n",
       "  <th>Method:</th>             <td>Least Squares</td>  <th>  F-statistic:       </th>           <td>1.227e+04</td> \n",
       "</tr>\n",
       "<tr>\n",
       "  <th>Date:</th>             <td>Tue, 09 Jun 2020</td> <th>  Prob (F-statistic):</th>            <td>  0.00</td>   \n",
       "</tr>\n",
       "<tr>\n",
       "  <th>Time:</th>                 <td>22:12:35</td>     <th>  Log-Likelihood:    </th>          <td>-9.6113e+05</td>\n",
       "</tr>\n",
       "<tr>\n",
       "  <th>No. Observations:</th>      <td>172800</td>      <th>  AIC:               </th>           <td>1.922e+06</td> \n",
       "</tr>\n",
       "<tr>\n",
       "  <th>Df Residuals:</th>          <td>172799</td>      <th>  BIC:               </th>           <td>1.922e+06</td> \n",
       "</tr>\n",
       "<tr>\n",
       "  <th>Df Model:</th>              <td>     1</td>      <th>                     </th>               <td> </td>     \n",
       "</tr>\n",
       "<tr>\n",
       "  <th>Covariance Type:</th>      <td>nonrobust</td>    <th>                     </th>               <td> </td>     \n",
       "</tr>\n",
       "</table>\n",
       "<table class=\"simpletable\">\n",
       "<tr>\n",
       "   <td></td>     <th>coef</th>     <th>std err</th>      <th>t</th>      <th>P>|t|</th>  <th>[0.025</th>    <th>0.975]</th>  \n",
       "</tr>\n",
       "<tr>\n",
       "  <th>X0</th> <td>   14.4241</td> <td>    0.130</td> <td>  110.771</td> <td> 0.000</td> <td>   14.169</td> <td>   14.679</td>\n",
       "</tr>\n",
       "</table>\n",
       "<table class=\"simpletable\">\n",
       "<tr>\n",
       "  <th>Omnibus:</th>       <td>425821.315</td> <th>  Durbin-Watson:     </th>    <td>   0.345</td>    \n",
       "</tr>\n",
       "<tr>\n",
       "  <th>Prob(Omnibus):</th>   <td> 0.000</td>   <th>  Jarque-Bera (JB):  </th> <td>10389809344.130</td>\n",
       "</tr>\n",
       "<tr>\n",
       "  <th>Skew:</th>            <td>26.293</td>   <th>  Prob(JB):          </th>    <td>    0.00</td>    \n",
       "</tr>\n",
       "<tr>\n",
       "  <th>Kurtosis:</th>       <td>1203.110</td>  <th>  Cond. No.          </th>    <td>    1.00</td>    \n",
       "</tr>\n",
       "</table><br/><br/>Warnings:<br/>[1] Standard Errors assume that the covariance matrix of the errors is correctly specified."
      ],
      "text/plain": [
       "<class 'statsmodels.iolib.summary.Summary'>\n",
       "\"\"\"\n",
       "                                 OLS Regression Results                                \n",
       "=======================================================================================\n",
       "Dep. Variable:                     VT   R-squared (uncentered):                   0.066\n",
       "Model:                            OLS   Adj. R-squared (uncentered):              0.066\n",
       "Method:                 Least Squares   F-statistic:                          1.227e+04\n",
       "Date:                Tue, 09 Jun 2020   Prob (F-statistic):                        0.00\n",
       "Time:                        22:12:35   Log-Likelihood:                     -9.6113e+05\n",
       "No. Observations:              172800   AIC:                                  1.922e+06\n",
       "Df Residuals:                  172799   BIC:                                  1.922e+06\n",
       "Df Model:                           1                                                  \n",
       "Covariance Type:            nonrobust                                                  \n",
       "==============================================================================\n",
       "                 coef    std err          t      P>|t|      [0.025      0.975]\n",
       "------------------------------------------------------------------------------\n",
       "X0            14.4241      0.130    110.771      0.000      14.169      14.679\n",
       "==============================================================================\n",
       "Omnibus:                   425821.315   Durbin-Watson:                   0.345\n",
       "Prob(Omnibus):                  0.000   Jarque-Bera (JB):      10389809344.130\n",
       "Skew:                          26.293   Prob(JB):                         0.00\n",
       "Kurtosis:                    1203.110   Cond. No.                         1.00\n",
       "==============================================================================\n",
       "\n",
       "Warnings:\n",
       "[1] Standard Errors assume that the covariance matrix of the errors is correctly specified.\n",
       "\"\"\""
      ]
     },
     "execution_count": 27,
     "metadata": {},
     "output_type": "execute_result"
    }
   ],
   "source": [
    "results0.summary()"
   ]
  },
  {
   "cell_type": "code",
   "execution_count": 30,
   "metadata": {},
   "outputs": [
    {
     "data": {
      "image/png": "[encoded data removed]",
      "text/plain": [
       "<Figure size 432x288 with 1 Axes>"
      ]
     },
     "metadata": {
      "needs_background": "light"
     },
     "output_type": "display_data"
    }
   ],
   "source": [
    "# Create a scatter plot\n",
    "plt.scatter(x0,y)\n",
    "# Define the regression equation, so we can plot it later\n",
    "yhat =14.4241*x0 \n",
    "fig = plt.plot(x0,yhat, lw=4, c='orange', label ='regression line')\n",
    "# Label the axes\n",
    "plt.xlabel('X0', fontsize = 20)\n",
    "plt.ylabel('Vt', fontsize = 20)\n",
    "plt.show()"
   ]
  },
  {
   "cell_type": "code",
   "execution_count": 31,
   "metadata": {},
   "outputs": [
    {
     "data": {
      "image/png": "[encoded data removed]",
      "text/plain": [
       "<Figure size 432x288 with 1 Axes>"
      ]
     },
     "metadata": {
      "needs_background": "light"
     },
     "output_type": "display_data"
    }
   ],
   "source": [
    "x1=data[\"X1\"]\n",
    "plt.scatter(x1,y)\n",
    "# Name the axes\n",
    "plt.xlabel('X1', fontsize = 20)\n",
    "plt.ylabel('Vt', fontsize = 20)\n",
    "# Show the plot\n",
    "plt.show()"
   ]
  },
  {
   "cell_type": "code",
   "execution_count": 32,
   "metadata": {},
   "outputs": [
    {
     "data": {
      "text/html": [
       "<table class=\"simpletable\">\n",
       "<caption>OLS Regression Results</caption>\n",
       "<tr>\n",
       "  <th>Dep. Variable:</th>           <td>VT</td>        <th>  R-squared (uncentered):</th>       <td>   0.110</td>  \n",
       "</tr>\n",
       "<tr>\n",
       "  <th>Model:</th>                   <td>OLS</td>       <th>  Adj. R-squared (uncentered):</th>  <td>   0.110</td>  \n",
       "</tr>\n",
       "<tr>\n",
       "  <th>Method:</th>             <td>Least Squares</td>  <th>  F-statistic:       </th>           <td>2.140e+04</td> \n",
       "</tr>\n",
       "<tr>\n",
       "  <th>Date:</th>             <td>Tue, 09 Jun 2020</td> <th>  Prob (F-statistic):</th>            <td>  0.00</td>   \n",
       "</tr>\n",
       "<tr>\n",
       "  <th>Time:</th>                 <td>22:14:40</td>     <th>  Log-Likelihood:    </th>          <td>-9.5697e+05</td>\n",
       "</tr>\n",
       "<tr>\n",
       "  <th>No. Observations:</th>      <td>172800</td>      <th>  AIC:               </th>           <td>1.914e+06</td> \n",
       "</tr>\n",
       "<tr>\n",
       "  <th>Df Residuals:</th>          <td>172799</td>      <th>  BIC:               </th>           <td>1.914e+06</td> \n",
       "</tr>\n",
       "<tr>\n",
       "  <th>Df Model:</th>              <td>     1</td>      <th>                     </th>               <td> </td>     \n",
       "</tr>\n",
       "<tr>\n",
       "  <th>Covariance Type:</th>      <td>nonrobust</td>    <th>                     </th>               <td> </td>     \n",
       "</tr>\n",
       "</table>\n",
       "<table class=\"simpletable\">\n",
       "<tr>\n",
       "   <td></td>     <th>coef</th>     <th>std err</th>      <th>t</th>      <th>P>|t|</th>  <th>[0.025</th>    <th>0.975]</th>  \n",
       "</tr>\n",
       "<tr>\n",
       "  <th>X1</th> <td>    8.0864</td> <td>    0.055</td> <td>  146.297</td> <td> 0.000</td> <td>    7.978</td> <td>    8.195</td>\n",
       "</tr>\n",
       "</table>\n",
       "<table class=\"simpletable\">\n",
       "<tr>\n",
       "  <th>Omnibus:</th>       <td>425482.358</td> <th>  Durbin-Watson:     </th>    <td>   0.401</td>    \n",
       "</tr>\n",
       "<tr>\n",
       "  <th>Prob(Omnibus):</th>   <td> 0.000</td>   <th>  Jarque-Bera (JB):  </th> <td>11117469873.941</td>\n",
       "</tr>\n",
       "<tr>\n",
       "  <th>Skew:</th>            <td>26.198</td>   <th>  Prob(JB):          </th>    <td>    0.00</td>    \n",
       "</tr>\n",
       "<tr>\n",
       "  <th>Kurtosis:</th>       <td>1244.510</td>  <th>  Cond. No.          </th>    <td>    1.00</td>    \n",
       "</tr>\n",
       "</table><br/><br/>Warnings:<br/>[1] Standard Errors assume that the covariance matrix of the errors is correctly specified."
      ],
      "text/plain": [
       "<class 'statsmodels.iolib.summary.Summary'>\n",
       "\"\"\"\n",
       "                                 OLS Regression Results                                \n",
       "=======================================================================================\n",
       "Dep. Variable:                     VT   R-squared (uncentered):                   0.110\n",
       "Model:                            OLS   Adj. R-squared (uncentered):              0.110\n",
       "Method:                 Least Squares   F-statistic:                          2.140e+04\n",
       "Date:                Tue, 09 Jun 2020   Prob (F-statistic):                        0.00\n",
       "Time:                        22:14:40   Log-Likelihood:                     -9.5697e+05\n",
       "No. Observations:              172800   AIC:                                  1.914e+06\n",
       "Df Residuals:                  172799   BIC:                                  1.914e+06\n",
       "Df Model:                           1                                                  \n",
       "Covariance Type:            nonrobust                                                  \n",
       "==============================================================================\n",
       "                 coef    std err          t      P>|t|      [0.025      0.975]\n",
       "------------------------------------------------------------------------------\n",
       "X1             8.0864      0.055    146.297      0.000       7.978       8.195\n",
       "==============================================================================\n",
       "Omnibus:                   425482.358   Durbin-Watson:                   0.401\n",
       "Prob(Omnibus):                  0.000   Jarque-Bera (JB):      11117469873.941\n",
       "Skew:                          26.198   Prob(JB):                         0.00\n",
       "Kurtosis:                    1244.510   Cond. No.                         1.00\n",
       "==============================================================================\n",
       "\n",
       "Warnings:\n",
       "[1] Standard Errors assume that the covariance matrix of the errors is correctly specified.\n",
       "\"\"\""
      ]
     },
     "execution_count": 32,
     "metadata": {},
     "output_type": "execute_result"
    }
   ],
   "source": [
    "results1=sm.OLS(y,x1).fit()\n",
    "results1.summary()"
   ]
  },
  {
   "cell_type": "code",
   "execution_count": 34,
   "metadata": {},
   "outputs": [
    {
     "data": {
      "image/png": "[encoded data removed]",
      "text/plain": [
       "<Figure size 432x288 with 1 Axes>"
      ]
     },
     "metadata": {
      "needs_background": "light"
     },
     "output_type": "display_data"
    }
   ],
   "source": [
    "# Create a scatter plot\n",
    "plt.scatter(x1,y)\n",
    "# Define the regression equation, so we can plot it later\n",
    "yhat =8.0864*x1 \n",
    "# Plot the regression line against the independent variable (SAT)\n",
    "fig = plt.plot(x1,yhat, lw=4, c='orange', label ='regression line')\n",
    "# Label the axes\n",
    "plt.xlabel('X1', fontsize = 20)\n",
    "plt.ylabel('Vt', fontsize = 20)\n",
    "plt.show()"
   ]
  },
  {
   "cell_type": "code",
   "execution_count": 35,
   "metadata": {},
   "outputs": [
    {
     "data": {
      "image/png": "[encoded data removed]",
      "text/plain": [
       "<Figure size 432x288 with 1 Axes>"
      ]
     },
     "metadata": {
      "needs_background": "light"
     },
     "output_type": "display_data"
    }
   ],
   "source": [
    "x2=data[\"X2\"]\n",
    "plt.scatter(x2,y)\n",
    "# Name the axes\n",
    "plt.xlabel('X2', fontsize = 20)\n",
    "plt.ylabel('Vt', fontsize = 20)\n",
    "# Show the plot\n",
    "plt.show()"
   ]
  },
  {
   "cell_type": "code",
   "execution_count": 36,
   "metadata": {},
   "outputs": [
    {
     "data": {
      "text/html": [
       "<table class=\"simpletable\">\n",
       "<caption>OLS Regression Results</caption>\n",
       "<tr>\n",
       "  <th>Dep. Variable:</th>           <td>VT</td>        <th>  R-squared (uncentered):</th>       <td>   0.255</td>  \n",
       "</tr>\n",
       "<tr>\n",
       "  <th>Model:</th>                   <td>OLS</td>       <th>  Adj. R-squared (uncentered):</th>  <td>   0.255</td>  \n",
       "</tr>\n",
       "<tr>\n",
       "  <th>Method:</th>             <td>Least Squares</td>  <th>  F-statistic:       </th>           <td>5.928e+04</td> \n",
       "</tr>\n",
       "<tr>\n",
       "  <th>Date:</th>             <td>Tue, 09 Jun 2020</td> <th>  Prob (F-statistic):</th>            <td>  0.00</td>   \n",
       "</tr>\n",
       "<tr>\n",
       "  <th>Time:</th>                 <td>22:17:34</td>     <th>  Log-Likelihood:    </th>          <td>-9.4158e+05</td>\n",
       "</tr>\n",
       "<tr>\n",
       "  <th>No. Observations:</th>      <td>172800</td>      <th>  AIC:               </th>           <td>1.883e+06</td> \n",
       "</tr>\n",
       "<tr>\n",
       "  <th>Df Residuals:</th>          <td>172799</td>      <th>  BIC:               </th>           <td>1.883e+06</td> \n",
       "</tr>\n",
       "<tr>\n",
       "  <th>Df Model:</th>              <td>     1</td>      <th>                     </th>               <td> </td>     \n",
       "</tr>\n",
       "<tr>\n",
       "  <th>Covariance Type:</th>      <td>nonrobust</td>    <th>                     </th>               <td> </td>     \n",
       "</tr>\n",
       "</table>\n",
       "<table class=\"simpletable\">\n",
       "<tr>\n",
       "   <td></td>     <th>coef</th>     <th>std err</th>      <th>t</th>      <th>P>|t|</th>  <th>[0.025</th>    <th>0.975]</th>  \n",
       "</tr>\n",
       "<tr>\n",
       "  <th>X2</th> <td>    1.0728</td> <td>    0.004</td> <td>  243.470</td> <td> 0.000</td> <td>    1.064</td> <td>    1.081</td>\n",
       "</tr>\n",
       "</table>\n",
       "<table class=\"simpletable\">\n",
       "<tr>\n",
       "  <th>Omnibus:</th>       <td>441171.422</td> <th>  Durbin-Watson:     </th>    <td>   0.411</td>    \n",
       "</tr>\n",
       "<tr>\n",
       "  <th>Prob(Omnibus):</th>   <td> 0.000</td>   <th>  Jarque-Bera (JB):  </th> <td>16189970213.936</td>\n",
       "</tr>\n",
       "<tr>\n",
       "  <th>Skew:</th>            <td>28.641</td>   <th>  Prob(JB):          </th>    <td>    0.00</td>    \n",
       "</tr>\n",
       "<tr>\n",
       "  <th>Kurtosis:</th>       <td>1501.441</td>  <th>  Cond. No.          </th>    <td>    1.00</td>    \n",
       "</tr>\n",
       "</table><br/><br/>Warnings:<br/>[1] Standard Errors assume that the covariance matrix of the errors is correctly specified."
      ],
      "text/plain": [
       "<class 'statsmodels.iolib.summary.Summary'>\n",
       "\"\"\"\n",
       "                                 OLS Regression Results                                \n",
       "=======================================================================================\n",
       "Dep. Variable:                     VT   R-squared (uncentered):                   0.255\n",
       "Model:                            OLS   Adj. R-squared (uncentered):              0.255\n",
       "Method:                 Least Squares   F-statistic:                          5.928e+04\n",
       "Date:                Tue, 09 Jun 2020   Prob (F-statistic):                        0.00\n",
       "Time:                        22:17:34   Log-Likelihood:                     -9.4158e+05\n",
       "No. Observations:              172800   AIC:                                  1.883e+06\n",
       "Df Residuals:                  172799   BIC:                                  1.883e+06\n",
       "Df Model:                           1                                                  \n",
       "Covariance Type:            nonrobust                                                  \n",
       "==============================================================================\n",
       "                 coef    std err          t      P>|t|      [0.025      0.975]\n",
       "------------------------------------------------------------------------------\n",
       "X2             1.0728      0.004    243.470      0.000       1.064       1.081\n",
       "==============================================================================\n",
       "Omnibus:                   441171.422   Durbin-Watson:                   0.411\n",
       "Prob(Omnibus):                  0.000   Jarque-Bera (JB):      16189970213.936\n",
       "Skew:                          28.641   Prob(JB):                         0.00\n",
       "Kurtosis:                    1501.441   Cond. No.                         1.00\n",
       "==============================================================================\n",
       "\n",
       "Warnings:\n",
       "[1] Standard Errors assume that the covariance matrix of the errors is correctly specified.\n",
       "\"\"\""
      ]
     },
     "execution_count": 36,
     "metadata": {},
     "output_type": "execute_result"
    }
   ],
   "source": [
    "results2=sm.OLS(y,x2).fit()\n",
    "results2.summary()"
   ]
  },
  {
   "cell_type": "code",
   "execution_count": 37,
   "metadata": {},
   "outputs": [
    {
     "data": {
      "image/png": "[encoded data removed]",
      "text/plain": [
       "<Figure size 432x288 with 1 Axes>"
      ]
     },
     "metadata": {
      "needs_background": "light"
     },
     "output_type": "display_data"
    }
   ],
   "source": [
    "# Create a scatter plot\n",
    "plt.scatter(x2,y)\n",
    "# Define the regression equation, so we can plot it later\n",
    "yhat =1.0728*x2 \n",
    "# Plot the regression line against the independent variable (SAT)\n",
    "fig = plt.plot(x2,yhat, lw=4, c='orange', label ='regression line')\n",
    "# Label the axes\n",
    "plt.xlabel('X2', fontsize = 20)\n",
    "plt.ylabel('Vt', fontsize = 20)\n",
    "plt.show()"
   ]
  },
  {
   "cell_type": "code",
   "execution_count": 21,
   "metadata": {},
   "outputs": [
    {
     "data": {
      "text/html": [
       "<div>\n",
       "<style scoped>\n",
       "    .dataframe tbody tr th:only-of-type {\n",
       "        vertical-align: middle;\n",
       "    }\n",
       "\n",
       "    .dataframe tbody tr th {\n",
       "        vertical-align: top;\n",
       "    }\n",
       "\n",
       "    .dataframe thead th {\n",
       "        text-align: right;\n",
       "    }\n",
       "</style>\n",
       "<table border=\"1\" class=\"dataframe\">\n",
       "  <thead>\n",
       "    <tr style=\"text-align: right;\">\n",
       "      <th></th>\n",
       "      <th>X0</th>\n",
       "      <th>X1</th>\n",
       "      <th>X2</th>\n",
       "    </tr>\n",
       "  </thead>\n",
       "  <tbody>\n",
       "    <tr>\n",
       "      <th>0</th>\n",
       "      <td>1.3768</td>\n",
       "      <td>0.00</td>\n",
       "      <td>0.000</td>\n",
       "    </tr>\n",
       "    <tr>\n",
       "      <th>1</th>\n",
       "      <td>1.3243</td>\n",
       "      <td>0.43</td>\n",
       "      <td>0.430</td>\n",
       "    </tr>\n",
       "    <tr>\n",
       "      <th>2</th>\n",
       "      <td>1.3243</td>\n",
       "      <td>0.43</td>\n",
       "      <td>0.430</td>\n",
       "    </tr>\n",
       "    <tr>\n",
       "      <th>3</th>\n",
       "      <td>1.3243</td>\n",
       "      <td>0.00</td>\n",
       "      <td>0.430</td>\n",
       "    </tr>\n",
       "    <tr>\n",
       "      <th>4</th>\n",
       "      <td>1.3243</td>\n",
       "      <td>0.00</td>\n",
       "      <td>0.645</td>\n",
       "    </tr>\n",
       "    <tr>\n",
       "      <th>...</th>\n",
       "      <td>...</td>\n",
       "      <td>...</td>\n",
       "      <td>...</td>\n",
       "    </tr>\n",
       "    <tr>\n",
       "      <th>172795</th>\n",
       "      <td>1.4218</td>\n",
       "      <td>3.28</td>\n",
       "      <td>23.710</td>\n",
       "    </tr>\n",
       "    <tr>\n",
       "      <th>172796</th>\n",
       "      <td>1.4218</td>\n",
       "      <td>1.02</td>\n",
       "      <td>13.250</td>\n",
       "    </tr>\n",
       "    <tr>\n",
       "      <th>172797</th>\n",
       "      <td>1.2646</td>\n",
       "      <td>1.24</td>\n",
       "      <td>5.240</td>\n",
       "    </tr>\n",
       "    <tr>\n",
       "      <th>172798</th>\n",
       "      <td>1.2098</td>\n",
       "      <td>0.36</td>\n",
       "      <td>0.720</td>\n",
       "    </tr>\n",
       "    <tr>\n",
       "      <th>172799</th>\n",
       "      <td>1.5389</td>\n",
       "      <td>1.96</td>\n",
       "      <td>1.960</td>\n",
       "    </tr>\n",
       "  </tbody>\n",
       "</table>\n",
       "<p>172800 rows × 3 columns</p>\n",
       "</div>"
      ],
      "text/plain": [
       "            X0    X1      X2\n",
       "0       1.3768  0.00   0.000\n",
       "1       1.3243  0.43   0.430\n",
       "2       1.3243  0.43   0.430\n",
       "3       1.3243  0.00   0.430\n",
       "4       1.3243  0.00   0.645\n",
       "...        ...   ...     ...\n",
       "172795  1.4218  3.28  23.710\n",
       "172796  1.4218  1.02  13.250\n",
       "172797  1.2646  1.24   5.240\n",
       "172798  1.2098  0.36   0.720\n",
       "172799  1.5389  1.96   1.960\n",
       "\n",
       "[172800 rows x 3 columns]"
      ]
     },
     "execution_count": 21,
     "metadata": {},
     "output_type": "execute_result"
    }
   ],
   "source": [
    "x=data[[\"X0\", \"X1\",\"X2\"]]\n",
    "x"
   ]
  },
  {
   "cell_type": "code",
   "execution_count": 22,
   "metadata": {
    "scrolled": true
   },
   "outputs": [
    {
     "data": {
      "text/html": [
       "<table class=\"simpletable\">\n",
       "<caption>OLS Regression Results</caption>\n",
       "<tr>\n",
       "  <th>Dep. Variable:</th>           <td>VT</td>        <th>  R-squared (uncentered):</th>       <td>   0.272</td>  \n",
       "</tr>\n",
       "<tr>\n",
       "  <th>Model:</th>                   <td>OLS</td>       <th>  Adj. R-squared (uncentered):</th>  <td>   0.272</td>  \n",
       "</tr>\n",
       "<tr>\n",
       "  <th>Method:</th>             <td>Least Squares</td>  <th>  F-statistic:       </th>           <td>2.156e+04</td> \n",
       "</tr>\n",
       "<tr>\n",
       "  <th>Date:</th>             <td>Tue, 09 Jun 2020</td> <th>  Prob (F-statistic):</th>            <td>  0.00</td>   \n",
       "</tr>\n",
       "<tr>\n",
       "  <th>Time:</th>                 <td>22:01:31</td>     <th>  Log-Likelihood:    </th>          <td>-9.3959e+05</td>\n",
       "</tr>\n",
       "<tr>\n",
       "  <th>No. Observations:</th>      <td>172800</td>      <th>  AIC:               </th>           <td>1.879e+06</td> \n",
       "</tr>\n",
       "<tr>\n",
       "  <th>Df Residuals:</th>          <td>172797</td>      <th>  BIC:               </th>           <td>1.879e+06</td> \n",
       "</tr>\n",
       "<tr>\n",
       "  <th>Df Model:</th>              <td>     3</td>      <th>                     </th>               <td> </td>     \n",
       "</tr>\n",
       "<tr>\n",
       "  <th>Covariance Type:</th>      <td>nonrobust</td>    <th>                     </th>               <td> </td>     \n",
       "</tr>\n",
       "</table>\n",
       "<table class=\"simpletable\">\n",
       "<tr>\n",
       "   <td></td>     <th>coef</th>     <th>std err</th>      <th>t</th>      <th>P>|t|</th>  <th>[0.025</th>    <th>0.975]</th>  \n",
       "</tr>\n",
       "<tr>\n",
       "  <th>X0</th> <td>   -5.2360</td> <td>    0.151</td> <td>  -34.573</td> <td> 0.000</td> <td>   -5.533</td> <td>   -4.939</td>\n",
       "</tr>\n",
       "<tr>\n",
       "  <th>X1</th> <td>   -3.9090</td> <td>    0.082</td> <td>  -47.456</td> <td> 0.000</td> <td>   -4.070</td> <td>   -3.748</td>\n",
       "</tr>\n",
       "<tr>\n",
       "  <th>X2</th> <td>    1.4690</td> <td>    0.008</td> <td>  192.250</td> <td> 0.000</td> <td>    1.454</td> <td>    1.484</td>\n",
       "</tr>\n",
       "</table>\n",
       "<table class=\"simpletable\">\n",
       "<tr>\n",
       "  <th>Omnibus:</th>       <td>436985.278</td> <th>  Durbin-Watson:     </th>    <td>   0.421</td>    \n",
       "</tr>\n",
       "<tr>\n",
       "  <th>Prob(Omnibus):</th>   <td> 0.000</td>   <th>  Jarque-Bera (JB):  </th> <td>15597434195.305</td>\n",
       "</tr>\n",
       "<tr>\n",
       "  <th>Skew:</th>            <td>27.935</td>   <th>  Prob(JB):          </th>    <td>    0.00</td>    \n",
       "</tr>\n",
       "<tr>\n",
       "  <th>Kurtosis:</th>       <td>1473.778</td>  <th>  Cond. No.          </th>    <td>    35.0</td>    \n",
       "</tr>\n",
       "</table><br/><br/>Warnings:<br/>[1] Standard Errors assume that the covariance matrix of the errors is correctly specified."
      ],
      "text/plain": [
       "<class 'statsmodels.iolib.summary.Summary'>\n",
       "\"\"\"\n",
       "                                 OLS Regression Results                                \n",
       "=======================================================================================\n",
       "Dep. Variable:                     VT   R-squared (uncentered):                   0.272\n",
       "Model:                            OLS   Adj. R-squared (uncentered):              0.272\n",
       "Method:                 Least Squares   F-statistic:                          2.156e+04\n",
       "Date:                Tue, 09 Jun 2020   Prob (F-statistic):                        0.00\n",
       "Time:                        22:01:31   Log-Likelihood:                     -9.3959e+05\n",
       "No. Observations:              172800   AIC:                                  1.879e+06\n",
       "Df Residuals:                  172797   BIC:                                  1.879e+06\n",
       "Df Model:                           3                                                  \n",
       "Covariance Type:            nonrobust                                                  \n",
       "==============================================================================\n",
       "                 coef    std err          t      P>|t|      [0.025      0.975]\n",
       "------------------------------------------------------------------------------\n",
       "X0            -5.2360      0.151    -34.573      0.000      -5.533      -4.939\n",
       "X1            -3.9090      0.082    -47.456      0.000      -4.070      -3.748\n",
       "X2             1.4690      0.008    192.250      0.000       1.454       1.484\n",
       "==============================================================================\n",
       "Omnibus:                   436985.278   Durbin-Watson:                   0.421\n",
       "Prob(Omnibus):                  0.000   Jarque-Bera (JB):      15597434195.305\n",
       "Skew:                          27.935   Prob(JB):                         0.00\n",
       "Kurtosis:                    1473.778   Cond. No.                         35.0\n",
       "==============================================================================\n",
       "\n",
       "Warnings:\n",
       "[1] Standard Errors assume that the covariance matrix of the errors is correctly specified.\n",
       "\"\"\""
      ]
     },
     "execution_count": 22,
     "metadata": {},
     "output_type": "execute_result"
    }
   ],
   "source": [
    "results=sm.OLS(y,x).fit()\n",
    "results.summary()"
   ]
  },
  {
   "cell_type": "code",
   "execution_count": null,
   "metadata": {},
   "outputs": [],
   "source": []
  }
 ],
 "metadata": {
  "kernelspec": {
   "display_name": "Python 3",
   "language": "python",
   "name": "python3"
  },
  "language_info": {
   "codemirror_mode": {
    "name": "ipython",
    "version": 3
   },
   "file_extension": ".py",
   "mimetype": "text/x-python",
   "name": "python",
   "nbconvert_exporter": "python",
   "pygments_lexer": "ipython3",
   "version": "3.7.7"
  }
 },
 "nbformat": 4,
 "nbformat_minor": 4
}
